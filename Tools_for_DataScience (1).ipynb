{
 "cells": [
  {
   "cell_type": "markdown",
   "id": "ad18b657",
   "metadata": {},
   "source": [
    "# My Jupyter Notebook on IBM Watson Studio\n"
   ]
  },
  {
   "cell_type": "markdown",
   "id": "ff60b2b5",
   "metadata": {},
   "source": [
    "Leonor Ademi"
   ]
  },
  {
   "cell_type": "markdown",
   "id": "5c576382",
   "metadata": {},
   "source": [
    "I am interested in data science because it's interesting and you win new insights."
   ]
  },
  {
   "cell_type": "markdown",
   "id": "ae477bfa",
   "metadata": {},
   "source": [
    "### Looks if the the Number is bigger than 10!"
   ]
  },
  {
   "cell_type": "code",
   "execution_count": 15,
   "id": "411d2e1f",
   "metadata": {},
   "outputs": [],
   "source": [
    "def is_bigger_than_TEN(n):\n",
    "    compare = True\n",
    "        \n",
    "    if n <= 10: \n",
    "        compare = False \n",
    "    return compare\n"
   ]
  },
  {
   "cell_type": "code",
   "execution_count": 16,
   "id": "338d830c",
   "metadata": {},
   "outputs": [
    {
     "data": {
      "text/plain": [
       "False"
      ]
     },
     "execution_count": 16,
     "metadata": {},
     "output_type": "execute_result"
    }
   ],
   "source": [
    "is_bigger_than_TEN(10)"
   ]
  },
  {
   "cell_type": "markdown",
   "id": "2be6c6f9",
   "metadata": {},
   "source": [
    "| Topic | Topic | Topic |\n",
    "| --- | --- | --- |\n",
    "| --- | --- | --- |\n",
    "| --- | --- | --- |\n",
    "| --- | --- | --- |"
   ]
  },
  {
   "cell_type": "markdown",
   "id": "3575d1c5",
   "metadata": {},
   "source": [
    "[YouTube Starting Page](https://www.youtube.com/)"
   ]
  },
  {
   "cell_type": "markdown",
   "id": "029f4cfe",
   "metadata": {},
   "source": []
  }
 ],
 "metadata": {
  "kernelspec": {
   "display_name": "Python 3 (ipykernel)",
   "language": "python",
   "name": "python3"
  },
  "language_info": {
   "codemirror_mode": {
    "name": "ipython",
    "version": 3
   },
   "file_extension": ".py",
   "mimetype": "text/x-python",
   "name": "python",
   "nbconvert_exporter": "python",
   "pygments_lexer": "ipython3",
   "version": "3.9.13"
  }
 },
 "nbformat": 4,
 "nbformat_minor": 5
}
