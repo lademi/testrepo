{
 "cells": [
  {
   "cell_type": "markdown",
   "id": "ad18b657",
   "metadata": {},
   "source": [
    "# My Jupyter Notebook on IBM Watson Studio\n"
   ]
  },
  {
   "cell_type": "markdown",
   "id": "ff60b2b5",
   "metadata": {},
   "source": [
    "Leonor Ademi"
   ]
  },
  {
   "cell_type": "markdown",
   "id": "5c576382",
   "metadata": {},
   "source": [
    "I am interested in data science because it's interesting and you win new insights."
   ]
  },
  {
   "cell_type": "markdown",
   "id": "ae477bfa",
   "metadata": {},
   "source": [
    "### The Outcome of 1+1"
   ]
  },
  {
   "cell_type": "code",
   "execution_count": 1,
   "id": "411d2e1f",
   "metadata": {},
   "outputs": [
    {
     "data": {
      "text/plain": [
       "2"
      ]
     },
     "execution_count": 1,
     "metadata": {},
     "output_type": "execute_result"
    }
   ],
   "source": [
    "1 + 1"
   ]
  },
  {
   "cell_type": "markdown",
   "id": "2be6c6f9",
   "metadata": {},
   "source": [
    "| Topic | Topic | Topic |\n",
    "| --- | --- | --- |\n",
    "| --- | --- | --- |\n",
    "| --- | --- | --- |\n",
    "| --- | --- | --- |"
   ]
  },
  {
   "cell_type": "code",
   "execution_count": null,
   "id": "e92ecf84",
   "metadata": {},
   "outputs": [],
   "source": []
  }
 ],
 "metadata": {
  "kernelspec": {
   "display_name": "Python 3 (ipykernel)",
   "language": "python",
   "name": "python3"
  },
  "language_info": {
   "codemirror_mode": {
    "name": "ipython",
    "version": 3
   },
   "file_extension": ".py",
   "mimetype": "text/x-python",
   "name": "python",
   "nbconvert_exporter": "python",
   "pygments_lexer": "ipython3",
   "version": "3.9.13"
  }
 },
 "nbformat": 4,
 "nbformat_minor": 5
}
